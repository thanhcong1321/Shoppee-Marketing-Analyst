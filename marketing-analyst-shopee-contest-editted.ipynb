{
 "cells": [
  {
   "cell_type": "code",
   "execution_count": 1,
   "metadata": {
    "_cell_guid": "b1076dfc-b9ad-4769-8c92-a6c4dae69d19",
    "_uuid": "8f2839f25d086af736a60e9eeb907d3b93b6e0e5"
   },
   "outputs": [
    {
     "name": "stdout",
     "output_type": "stream",
     "text": [
      "/kaggle/input/student-shopee-code-league-marketing-analytics/users.csv\n",
      "/kaggle/input/student-shopee-code-league-marketing-analytics/sample_submission_0_1.csv\n",
      "/kaggle/input/student-shopee-code-league-marketing-analytics/train.csv\n",
      "/kaggle/input/student-shopee-code-league-marketing-analytics/test.csv\n"
     ]
    }
   ],
   "source": [
    "# This Python 3 environment comes with many helpful analytics libraries installed\n",
    "# It is defined by the kaggle/python Docker image: https://github.com/kaggle/docker-python\n",
    "# For example, here's several helpful packages to load\n",
    "\n",
    "import numpy as np # linear algebra\n",
    "import pandas as pd # data processing, CSV file I/O (e.g. pd.read_csv)\n",
    "\n",
    "# Input data files are available in the read-only \"../input/\" directory\n",
    "# For example, running this (by clicking run or pressing Shift+Enter) will list all files under the input directory\n",
    "\n",
    "import os\n",
    "for dirname, _, filenames in os.walk('/kaggle/input'):\n",
    "    for filename in filenames:\n",
    "        print(os.path.join(dirname, filename))\n",
    "\n",
    "# You can write up to 5GB to the current directory (/kaggle/working/) that gets preserved as output when you create a version using \"Save & Run All\" \n",
    "# You can also write temporary files to /kaggle/temp/, but they won't be saved outside of the current session"
   ]
  },
  {
   "cell_type": "code",
   "execution_count": 2,
   "metadata": {
    "_cell_guid": "79c7e3d0-c299-4dcb-8224-4455121ee9b0",
    "_uuid": "d629ff2d2480ee46fbb7e2d37f6b5fab8052498a"
   },
   "outputs": [
    {
     "name": "stdout",
     "output_type": "stream",
     "text": [
      "Train: (73539, 18)\n",
      "Test: (55970, 17)\n",
      "Users: (127886, 6)\n"
     ]
    }
   ],
   "source": [
    "train = pd.read_csv('/kaggle/input/student-shopee-code-league-marketing-analytics/train.csv')\n",
    "test = pd.read_csv('/kaggle/input/student-shopee-code-league-marketing-analytics/test.csv')\n",
    "users = pd.read_csv('/kaggle/input/student-shopee-code-league-marketing-analytics/users.csv')\n",
    "\n",
    "print(\"Train:\", train.shape)\n",
    "print(\"Test:\", test.shape)\n",
    "print('Users:', users.shape)"
   ]
  },
  {
   "cell_type": "code",
   "execution_count": 3,
   "metadata": {},
   "outputs": [],
   "source": [
    "df = pd.concat((train, test))\n",
    "df = pd.merge(df, users, how='left', on = 'user_id')\n",
    "df.reset_index(drop=True, inplace=True)"
   ]
  },
  {
   "cell_type": "code",
   "execution_count": 4,
   "metadata": {},
   "outputs": [
    {
     "data": {
      "text/html": [
       "<div>\n",
       "<style scoped>\n",
       "    .dataframe tbody tr th:only-of-type {\n",
       "        vertical-align: middle;\n",
       "    }\n",
       "\n",
       "    .dataframe tbody tr th {\n",
       "        vertical-align: top;\n",
       "    }\n",
       "\n",
       "    .dataframe thead th {\n",
       "        text-align: right;\n",
       "    }\n",
       "</style>\n",
       "<table border=\"1\" class=\"dataframe\">\n",
       "  <thead>\n",
       "    <tr style=\"text-align: right;\">\n",
       "      <th></th>\n",
       "      <th>country_code</th>\n",
       "      <th>grass_date</th>\n",
       "      <th>user_id</th>\n",
       "      <th>subject_line_length</th>\n",
       "      <th>last_open_day</th>\n",
       "      <th>last_login_day</th>\n",
       "      <th>last_checkout_day</th>\n",
       "      <th>open_count_last_10_days</th>\n",
       "      <th>open_count_last_30_days</th>\n",
       "      <th>open_count_last_60_days</th>\n",
       "      <th>...</th>\n",
       "      <th>checkout_count_last_10_days</th>\n",
       "      <th>checkout_count_last_30_days</th>\n",
       "      <th>checkout_count_last_60_days</th>\n",
       "      <th>open_flag</th>\n",
       "      <th>row_id</th>\n",
       "      <th>attr_1</th>\n",
       "      <th>attr_2</th>\n",
       "      <th>attr_3</th>\n",
       "      <th>age</th>\n",
       "      <th>domain</th>\n",
       "    </tr>\n",
       "  </thead>\n",
       "  <tbody>\n",
       "    <tr>\n",
       "      <th>0</th>\n",
       "      <td>4</td>\n",
       "      <td>2019-07-16 00:00:00+08:00</td>\n",
       "      <td>43</td>\n",
       "      <td>44</td>\n",
       "      <td>19</td>\n",
       "      <td>6</td>\n",
       "      <td>18</td>\n",
       "      <td>0</td>\n",
       "      <td>2</td>\n",
       "      <td>4</td>\n",
       "      <td>...</td>\n",
       "      <td>0</td>\n",
       "      <td>5</td>\n",
       "      <td>10</td>\n",
       "      <td>0.0</td>\n",
       "      <td>0</td>\n",
       "      <td>1.0</td>\n",
       "      <td>1.0</td>\n",
       "      <td>2.0</td>\n",
       "      <td>47.0</td>\n",
       "      <td>@gmail.com</td>\n",
       "    </tr>\n",
       "    <tr>\n",
       "      <th>1</th>\n",
       "      <td>4</td>\n",
       "      <td>2019-07-16 00:00:00+08:00</td>\n",
       "      <td>102</td>\n",
       "      <td>44</td>\n",
       "      <td>9</td>\n",
       "      <td>4</td>\n",
       "      <td>8</td>\n",
       "      <td>2</td>\n",
       "      <td>9</td>\n",
       "      <td>17</td>\n",
       "      <td>...</td>\n",
       "      <td>1</td>\n",
       "      <td>1</td>\n",
       "      <td>4</td>\n",
       "      <td>1.0</td>\n",
       "      <td>1</td>\n",
       "      <td>1.0</td>\n",
       "      <td>1.0</td>\n",
       "      <td>2.0</td>\n",
       "      <td>25.0</td>\n",
       "      <td>@hotmail.com</td>\n",
       "    </tr>\n",
       "    <tr>\n",
       "      <th>2</th>\n",
       "      <td>6</td>\n",
       "      <td>2019-07-16 00:00:00+08:00</td>\n",
       "      <td>177</td>\n",
       "      <td>49</td>\n",
       "      <td>14</td>\n",
       "      <td>5</td>\n",
       "      <td>5</td>\n",
       "      <td>0</td>\n",
       "      <td>4</td>\n",
       "      <td>12</td>\n",
       "      <td>...</td>\n",
       "      <td>5</td>\n",
       "      <td>19</td>\n",
       "      <td>27</td>\n",
       "      <td>0.0</td>\n",
       "      <td>2</td>\n",
       "      <td>NaN</td>\n",
       "      <td>1.0</td>\n",
       "      <td>0.0</td>\n",
       "      <td>NaN</td>\n",
       "      <td>@yahoo.com</td>\n",
       "    </tr>\n",
       "    <tr>\n",
       "      <th>3</th>\n",
       "      <td>1</td>\n",
       "      <td>2019-07-16 00:00:00+08:00</td>\n",
       "      <td>184</td>\n",
       "      <td>49</td>\n",
       "      <td>49</td>\n",
       "      <td>9</td>\n",
       "      <td>53</td>\n",
       "      <td>0</td>\n",
       "      <td>0</td>\n",
       "      <td>1</td>\n",
       "      <td>...</td>\n",
       "      <td>1</td>\n",
       "      <td>3</td>\n",
       "      <td>6</td>\n",
       "      <td>0.0</td>\n",
       "      <td>3</td>\n",
       "      <td>1.0</td>\n",
       "      <td>1.0</td>\n",
       "      <td>2.0</td>\n",
       "      <td>24.0</td>\n",
       "      <td>@yahoo.com</td>\n",
       "    </tr>\n",
       "    <tr>\n",
       "      <th>4</th>\n",
       "      <td>6</td>\n",
       "      <td>2019-07-16 00:00:00+08:00</td>\n",
       "      <td>221</td>\n",
       "      <td>49</td>\n",
       "      <td>227</td>\n",
       "      <td>6</td>\n",
       "      <td>221</td>\n",
       "      <td>0</td>\n",
       "      <td>0</td>\n",
       "      <td>0</td>\n",
       "      <td>...</td>\n",
       "      <td>0</td>\n",
       "      <td>0</td>\n",
       "      <td>0</td>\n",
       "      <td>0.0</td>\n",
       "      <td>4</td>\n",
       "      <td>NaN</td>\n",
       "      <td>1.0</td>\n",
       "      <td>0.0</td>\n",
       "      <td>NaN</td>\n",
       "      <td>@hotmail.com</td>\n",
       "    </tr>\n",
       "    <tr>\n",
       "      <th>...</th>\n",
       "      <td>...</td>\n",
       "      <td>...</td>\n",
       "      <td>...</td>\n",
       "      <td>...</td>\n",
       "      <td>...</td>\n",
       "      <td>...</td>\n",
       "      <td>...</td>\n",
       "      <td>...</td>\n",
       "      <td>...</td>\n",
       "      <td>...</td>\n",
       "      <td>...</td>\n",
       "      <td>...</td>\n",
       "      <td>...</td>\n",
       "      <td>...</td>\n",
       "      <td>...</td>\n",
       "      <td>...</td>\n",
       "      <td>...</td>\n",
       "      <td>...</td>\n",
       "      <td>...</td>\n",
       "      <td>...</td>\n",
       "      <td>...</td>\n",
       "    </tr>\n",
       "    <tr>\n",
       "      <th>129504</th>\n",
       "      <td>6</td>\n",
       "      <td>2019-09-29 00:00:00+08:00</td>\n",
       "      <td>127348</td>\n",
       "      <td>53</td>\n",
       "      <td>Never open</td>\n",
       "      <td>4</td>\n",
       "      <td>8</td>\n",
       "      <td>0</td>\n",
       "      <td>0</td>\n",
       "      <td>0</td>\n",
       "      <td>...</td>\n",
       "      <td>0</td>\n",
       "      <td>0</td>\n",
       "      <td>0</td>\n",
       "      <td>NaN</td>\n",
       "      <td>55965</td>\n",
       "      <td>NaN</td>\n",
       "      <td>1.0</td>\n",
       "      <td>0.0</td>\n",
       "      <td>NaN</td>\n",
       "      <td>@gmail.com</td>\n",
       "    </tr>\n",
       "    <tr>\n",
       "      <th>129505</th>\n",
       "      <td>6</td>\n",
       "      <td>2019-09-29 00:00:00+08:00</td>\n",
       "      <td>127396</td>\n",
       "      <td>53</td>\n",
       "      <td>59</td>\n",
       "      <td>802</td>\n",
       "      <td>1207</td>\n",
       "      <td>0</td>\n",
       "      <td>0</td>\n",
       "      <td>1</td>\n",
       "      <td>...</td>\n",
       "      <td>0</td>\n",
       "      <td>0</td>\n",
       "      <td>0</td>\n",
       "      <td>NaN</td>\n",
       "      <td>55966</td>\n",
       "      <td>NaN</td>\n",
       "      <td>1.0</td>\n",
       "      <td>0.0</td>\n",
       "      <td>NaN</td>\n",
       "      <td>@gmail.com</td>\n",
       "    </tr>\n",
       "    <tr>\n",
       "      <th>129506</th>\n",
       "      <td>6</td>\n",
       "      <td>2019-09-29 00:00:00+08:00</td>\n",
       "      <td>127574</td>\n",
       "      <td>43</td>\n",
       "      <td>Never open</td>\n",
       "      <td>7</td>\n",
       "      <td>Never checkout</td>\n",
       "      <td>0</td>\n",
       "      <td>0</td>\n",
       "      <td>0</td>\n",
       "      <td>...</td>\n",
       "      <td>0</td>\n",
       "      <td>0</td>\n",
       "      <td>0</td>\n",
       "      <td>NaN</td>\n",
       "      <td>55967</td>\n",
       "      <td>NaN</td>\n",
       "      <td>1.0</td>\n",
       "      <td>0.0</td>\n",
       "      <td>NaN</td>\n",
       "      <td>@hotmail.com</td>\n",
       "    </tr>\n",
       "    <tr>\n",
       "      <th>129507</th>\n",
       "      <td>6</td>\n",
       "      <td>2019-09-29 00:00:00+08:00</td>\n",
       "      <td>127887</td>\n",
       "      <td>43</td>\n",
       "      <td>5</td>\n",
       "      <td>5</td>\n",
       "      <td>6</td>\n",
       "      <td>2</td>\n",
       "      <td>5</td>\n",
       "      <td>14</td>\n",
       "      <td>...</td>\n",
       "      <td>0</td>\n",
       "      <td>0</td>\n",
       "      <td>0</td>\n",
       "      <td>NaN</td>\n",
       "      <td>55968</td>\n",
       "      <td>NaN</td>\n",
       "      <td>1.0</td>\n",
       "      <td>0.0</td>\n",
       "      <td>NaN</td>\n",
       "      <td>@gmail.com</td>\n",
       "    </tr>\n",
       "    <tr>\n",
       "      <th>129508</th>\n",
       "      <td>6</td>\n",
       "      <td>2019-09-29 00:00:00+08:00</td>\n",
       "      <td>127895</td>\n",
       "      <td>53</td>\n",
       "      <td>5</td>\n",
       "      <td>3</td>\n",
       "      <td>20</td>\n",
       "      <td>2</td>\n",
       "      <td>14</td>\n",
       "      <td>27</td>\n",
       "      <td>...</td>\n",
       "      <td>0</td>\n",
       "      <td>0</td>\n",
       "      <td>0</td>\n",
       "      <td>NaN</td>\n",
       "      <td>55969</td>\n",
       "      <td>NaN</td>\n",
       "      <td>1.0</td>\n",
       "      <td>0.0</td>\n",
       "      <td>NaN</td>\n",
       "      <td>@hotmail.com</td>\n",
       "    </tr>\n",
       "  </tbody>\n",
       "</table>\n",
       "<p>129509 rows × 23 columns</p>\n",
       "</div>"
      ],
      "text/plain": [
       "        country_code                 grass_date  user_id  subject_line_length  \\\n",
       "0                  4  2019-07-16 00:00:00+08:00       43                   44   \n",
       "1                  4  2019-07-16 00:00:00+08:00      102                   44   \n",
       "2                  6  2019-07-16 00:00:00+08:00      177                   49   \n",
       "3                  1  2019-07-16 00:00:00+08:00      184                   49   \n",
       "4                  6  2019-07-16 00:00:00+08:00      221                   49   \n",
       "...              ...                        ...      ...                  ...   \n",
       "129504             6  2019-09-29 00:00:00+08:00   127348                   53   \n",
       "129505             6  2019-09-29 00:00:00+08:00   127396                   53   \n",
       "129506             6  2019-09-29 00:00:00+08:00   127574                   43   \n",
       "129507             6  2019-09-29 00:00:00+08:00   127887                   43   \n",
       "129508             6  2019-09-29 00:00:00+08:00   127895                   53   \n",
       "\n",
       "       last_open_day last_login_day last_checkout_day  \\\n",
       "0                 19              6                18   \n",
       "1                  9              4                 8   \n",
       "2                 14              5                 5   \n",
       "3                 49              9                53   \n",
       "4                227              6               221   \n",
       "...              ...            ...               ...   \n",
       "129504    Never open              4                 8   \n",
       "129505            59            802              1207   \n",
       "129506    Never open              7    Never checkout   \n",
       "129507             5              5                 6   \n",
       "129508             5              3                20   \n",
       "\n",
       "        open_count_last_10_days  open_count_last_30_days  \\\n",
       "0                             0                        2   \n",
       "1                             2                        9   \n",
       "2                             0                        4   \n",
       "3                             0                        0   \n",
       "4                             0                        0   \n",
       "...                         ...                      ...   \n",
       "129504                        0                        0   \n",
       "129505                        0                        0   \n",
       "129506                        0                        0   \n",
       "129507                        2                        5   \n",
       "129508                        2                       14   \n",
       "\n",
       "        open_count_last_60_days  ...  checkout_count_last_10_days  \\\n",
       "0                             4  ...                            0   \n",
       "1                            17  ...                            1   \n",
       "2                            12  ...                            5   \n",
       "3                             1  ...                            1   \n",
       "4                             0  ...                            0   \n",
       "...                         ...  ...                          ...   \n",
       "129504                        0  ...                            0   \n",
       "129505                        1  ...                            0   \n",
       "129506                        0  ...                            0   \n",
       "129507                       14  ...                            0   \n",
       "129508                       27  ...                            0   \n",
       "\n",
       "        checkout_count_last_30_days  checkout_count_last_60_days  open_flag  \\\n",
       "0                                 5                           10        0.0   \n",
       "1                                 1                            4        1.0   \n",
       "2                                19                           27        0.0   \n",
       "3                                 3                            6        0.0   \n",
       "4                                 0                            0        0.0   \n",
       "...                             ...                          ...        ...   \n",
       "129504                            0                            0        NaN   \n",
       "129505                            0                            0        NaN   \n",
       "129506                            0                            0        NaN   \n",
       "129507                            0                            0        NaN   \n",
       "129508                            0                            0        NaN   \n",
       "\n",
       "        row_id  attr_1  attr_2  attr_3   age        domain  \n",
       "0            0     1.0     1.0     2.0  47.0    @gmail.com  \n",
       "1            1     1.0     1.0     2.0  25.0  @hotmail.com  \n",
       "2            2     NaN     1.0     0.0   NaN    @yahoo.com  \n",
       "3            3     1.0     1.0     2.0  24.0    @yahoo.com  \n",
       "4            4     NaN     1.0     0.0   NaN  @hotmail.com  \n",
       "...        ...     ...     ...     ...   ...           ...  \n",
       "129504   55965     NaN     1.0     0.0   NaN    @gmail.com  \n",
       "129505   55966     NaN     1.0     0.0   NaN    @gmail.com  \n",
       "129506   55967     NaN     1.0     0.0   NaN  @hotmail.com  \n",
       "129507   55968     NaN     1.0     0.0   NaN    @gmail.com  \n",
       "129508   55969     NaN     1.0     0.0   NaN  @hotmail.com  \n",
       "\n",
       "[129509 rows x 23 columns]"
      ]
     },
     "execution_count": 4,
     "metadata": {},
     "output_type": "execute_result"
    }
   ],
   "source": [
    "df"
   ]
  },
  {
   "cell_type": "code",
   "execution_count": 5,
   "metadata": {},
   "outputs": [
    {
     "data": {
      "text/plain": [
       "Series([], Name: open_flag, dtype: int64)"
      ]
     },
     "execution_count": 5,
     "metadata": {},
     "output_type": "execute_result"
    }
   ],
   "source": [
    "df['open_flag'][73539:].value_counts()"
   ]
  },
  {
   "cell_type": "code",
   "execution_count": 6,
   "metadata": {},
   "outputs": [
    {
     "data": {
      "text/plain": [
       "0         382\n",
       "1         382\n",
       "2         382\n",
       "3         382\n",
       "4         382\n",
       "         ... \n",
       "129504    307\n",
       "129505    307\n",
       "129506    307\n",
       "129507    307\n",
       "129508    307\n",
       "Name: grass_date, Length: 129509, dtype: int64"
      ]
     },
     "execution_count": 6,
     "metadata": {},
     "output_type": "execute_result"
    }
   ],
   "source": [
    "import datetime\n",
    "def convert_date(x):\n",
    "    item = x.split(' ')[0]\n",
    "    date = datetime.datetime.strptime(item, \"%Y-%m-%d\").date()\n",
    "    num_days = (datetime.date(2020, 8, 1) - date).days\n",
    "    return num_days\n",
    "\n",
    "df['grass_date'] = df['grass_date'].apply(convert_date)\n",
    "df['grass_date']"
   ]
  },
  {
   "cell_type": "code",
   "execution_count": 7,
   "metadata": {},
   "outputs": [],
   "source": [
    "# ### Get variable from date\n",
    "# df['grass_date'] = pd.to_datetime(df['grass_date'])\n",
    "\n",
    "# df['day'] = df['grass_date'].dt.day.astype('category')\n",
    "# df['dayofweek'] = df['grass_date'].dt.dayofweek.astype('category')\n",
    "# df['month'] = df['grass_date'].dt.month.astype('category')\n",
    "\n"
   ]
  },
  {
   "cell_type": "markdown",
   "execution_count": null,
   "metadata": {},
   "source": [
    "**Xử lý các cột login và checkout**"
   ]
  },
  {
   "cell_type": "code",
   "execution_count": 8,
   "metadata": {},
   "outputs": [
    {
     "data": {
      "text/plain": [
       "Index(['country_code', 'grass_date', 'user_id', 'subject_line_length',\n",
       "       'last_open_day', 'last_login_day', 'last_checkout_day',\n",
       "       'open_count_last_10_days', 'open_count_last_30_days',\n",
       "       'open_count_last_60_days', 'login_count_last_10_days',\n",
       "       'login_count_last_30_days', 'login_count_last_60_days',\n",
       "       'checkout_count_last_10_days', 'checkout_count_last_30_days',\n",
       "       'checkout_count_last_60_days', 'open_flag', 'row_id', 'attr_1',\n",
       "       'attr_2', 'attr_3', 'age', 'domain'],\n",
       "      dtype='object')"
      ]
     },
     "execution_count": 8,
     "metadata": {},
     "output_type": "execute_result"
    }
   ],
   "source": [
    "df.columns"
   ]
  },
  {
   "cell_type": "code",
   "execution_count": 9,
   "metadata": {},
   "outputs": [],
   "source": [
    "col = ['login_count_last_10_days',\n",
    "       'login_count_last_30_days', 'login_count_last_60_days',\n",
    "       'checkout_count_last_10_days', 'checkout_count_last_30_days',\n",
    "       'checkout_count_last_60_days']"
   ]
  },
  {
   "cell_type": "code",
   "execution_count": 10,
   "metadata": {},
   "outputs": [
    {
     "data": {
      "text/plain": [
       "<matplotlib.axes._subplots.AxesSubplot at 0x7f7684128ad0>"
      ]
     },
     "execution_count": 10,
     "metadata": {},
     "output_type": "execute_result"
    },
    {
     "data": {
      "image/png": "[encoded data removed]",
      "text/plain": [
       "<Figure size 1440x720 with 1 Axes>"
      ]
     },
     "metadata": {
      "needs_background": "light"
     },
     "output_type": "display_data"
    }
   ],
   "source": [
    "df.boxplot(column=col, figsize=(20, 10))\n"
   ]
  },
  {
   "cell_type": "code",
   "execution_count": 11,
   "metadata": {},
   "outputs": [],
   "source": [
    "#login_count_last_60_days\n",
    "df['login_count_last_60_days'].values[df['login_count_last_60_days'].values > 900] = 900\n",
    "df['login_count_last_30_days'].values[df['login_count_last_30_days'].values > 450] = 450\n",
    "df['login_count_last_10_days'].values[df['login_count_last_10_days'].values > 200] = 200\n",
    "\n",
    "#checkout_count_last_10_days\n",
    "df['checkout_count_last_10_days'].values[df['checkout_count_last_10_days'].values > 150] = 150\n",
    "df['checkout_count_last_30_days'].values[df['checkout_count_last_30_days'].values > 300] = 300\n",
    "df['checkout_count_last_60_days'].values[df['checkout_count_last_60_days'].values > 650] = 650"
   ]
  },
  {
   "cell_type": "code",
   "execution_count": 12,
   "metadata": {},
   "outputs": [],
   "source": [
    "#open_count_last_10_days_log\n",
    "df['open_count_last_10_days_log'] = np.log(df['open_count_last_10_days'] + 1)\n",
    "df['open_count_last_30_days_log'] = np.log(df['open_count_last_30_days'] + 1)\n",
    "df['open_count_last_60_days_log'] = np.log(df['open_count_last_60_days'] + 1)"
   ]
  },
  {
   "cell_type": "code",
   "execution_count": 13,
   "metadata": {},
   "outputs": [],
   "source": [
    "#age\n",
    "### Make \"age_class\"\n",
    "def make_age_class(dataset) :\n",
    "    df = dataset.copy()\n",
    "    \n",
    "    # For NaN values\n",
    "    df['age_class'] = df['age'].isna()\n",
    "    df['age_class'] = df['age_class'].map({True:'Unknown',False:'<>'})\n",
    "    \n",
    "    # Make class for '>=30' and '<30' age\n",
    "    df.loc[df['age']>=30, 'age_class'] = '>=30'\n",
    "    df.loc[df['age']<30, 'age_class'] = '<30'\n",
    "    \n",
    "    return df\n",
    "\n",
    "df = make_age_class(df)"
   ]
  },
  {
   "cell_type": "code",
   "execution_count": 14,
   "metadata": {},
   "outputs": [],
   "source": [
    "# ### Make 'domain_type'\n",
    "# list_low_domain = ['@163.com','@gmail.com','@yahoo.com','@ymail.com']\n",
    "# list_med_domain = ['@outlook.com','@qq.com','@rocketmail.com']\n",
    "# list_high_domain = ['@hotmail.com','@icloud.com','@live.com','other']\n",
    "\n",
    "# def make_domain_type(dom) :\n",
    "#     if dom in list_low_domain :\n",
    "#         res = 'low_domain'\n",
    "#     elif dom in list_med_domain :\n",
    "#         res = 'med_domain'\n",
    "#     elif dom in list_high_domain :\n",
    "#         res = 'high_domain'\n",
    "        \n",
    "#     return res\n",
    "\n",
    "# df['domain_type'] = df.apply(lambda x : make_domain_type(x['domain']), axis=1)"
   ]
  },
  {
   "cell_type": "markdown",
   "execution_count": null,
   "metadata": {},
   "source": [
    "# **Build Model**"
   ]
  },
  {
   "cell_type": "code",
   "execution_count": 15,
   "metadata": {},
   "outputs": [],
   "source": [
    "# df.drop(['row_id'], axis=1, inplace=True)"
   ]
  },
  {
   "cell_type": "code",
   "execution_count": 16,
   "metadata": {},
   "outputs": [],
   "source": [
    "# df['domain'] = df['domain'].astype('category')"
   ]
  },
  {
   "cell_type": "code",
   "execution_count": 17,
   "metadata": {},
   "outputs": [],
   "source": [
    "\n",
    "# import matplotlib.pyplot as plt\n",
    "\n",
    "# plt.plot(df.index,df.row_id)\n",
    "# plt.title('row_id - index')\n",
    "# plt.xlabel('index')\n",
    "# plt.ylabel('row_id')\n",
    "# plt.show()"
   ]
  },
  {
   "cell_type": "code",
   "execution_count": 18,
   "metadata": {},
   "outputs": [
    {
     "data": {
      "text/plain": [
       "Index(['country_code', 'grass_date', 'user_id', 'subject_line_length',\n",
       "       'last_open_day', 'last_login_day', 'last_checkout_day',\n",
       "       'open_count_last_10_days', 'open_count_last_30_days',\n",
       "       'open_count_last_60_days', 'login_count_last_10_days',\n",
       "       'login_count_last_30_days', 'login_count_last_60_days',\n",
       "       'checkout_count_last_10_days', 'checkout_count_last_30_days',\n",
       "       'checkout_count_last_60_days', 'open_flag', 'row_id', 'attr_1',\n",
       "       'attr_2', 'attr_3', 'age', 'domain', 'open_count_last_10_days_log',\n",
       "       'open_count_last_30_days_log', 'open_count_last_60_days_log',\n",
       "       'age_class'],\n",
       "      dtype='object')"
      ]
     },
     "execution_count": 18,
     "metadata": {},
     "output_type": "execute_result"
    }
   ],
   "source": [
    "df.columns"
   ]
  },
  {
   "cell_type": "code",
   "execution_count": 19,
   "metadata": {},
   "outputs": [],
   "source": [
    "df.replace(['Never checkout', 'Never open', 'Never login'], np.nan, inplace=True)"
   ]
  },
  {
   "cell_type": "code",
   "execution_count": 20,
   "metadata": {},
   "outputs": [
    {
     "data": {
      "text/plain": [
       "0         44\n",
       "1         44\n",
       "2         49\n",
       "3         49\n",
       "4         49\n",
       "          ..\n",
       "129504    53\n",
       "129505    53\n",
       "129506    43\n",
       "129507    43\n",
       "129508    53\n",
       "Name: subject_line_length, Length: 129509, dtype: int64"
      ]
     },
     "execution_count": 20,
     "metadata": {},
     "output_type": "execute_result"
    }
   ],
   "source": [
    "df.subject_line_length"
   ]
  },
  {
   "cell_type": "code",
   "execution_count": 21,
   "metadata": {},
   "outputs": [
    {
     "data": {
      "text/plain": [
       "Index(['country_code', 'grass_date', 'user_id', 'subject_line_length',\n",
       "       'last_open_day', 'last_login_day', 'last_checkout_day',\n",
       "       'open_count_last_10_days', 'open_count_last_30_days',\n",
       "       'open_count_last_60_days', 'login_count_last_10_days',\n",
       "       'login_count_last_30_days', 'login_count_last_60_days',\n",
       "       'checkout_count_last_10_days', 'checkout_count_last_30_days',\n",
       "       'checkout_count_last_60_days', 'open_flag', 'row_id', 'attr_1',\n",
       "       'attr_2', 'attr_3', 'age', 'domain', 'open_count_last_10_days_log',\n",
       "       'open_count_last_30_days_log', 'open_count_last_60_days_log',\n",
       "       'age_class'],\n",
       "      dtype='object')"
      ]
     },
     "execution_count": 21,
     "metadata": {},
     "output_type": "execute_result"
    }
   ],
   "source": [
    "df.columns"
   ]
  },
  {
   "cell_type": "code",
   "execution_count": 22,
   "metadata": {},
   "outputs": [],
   "source": [
    "col = ['country_code', 'user_id', 'subject_line_length',\n",
    "       'last_open_day', 'last_login_day', 'last_checkout_day',\n",
    "       'open_count_last_10_days', 'open_count_last_30_days',\n",
    "       'open_count_last_60_days', 'login_count_last_10_days',\n",
    "       'login_count_last_30_days', 'login_count_last_60_days',\n",
    "       'checkout_count_last_10_days', 'checkout_count_last_30_days',\n",
    "       'checkout_count_last_60_days', 'open_flag', 'row_id', 'attr_1',\n",
    "       'attr_2', 'attr_3', 'age', 'open_count_last_10_days_log',\n",
    "       'open_count_last_30_days_log', 'open_count_last_60_days_log']"
   ]
  },
  {
   "cell_type": "code",
   "execution_count": 23,
   "metadata": {},
   "outputs": [],
   "source": [
    "df[col] = df[col].astype('float')\n",
    "df['domain'] = df['domain'].astype('category')\n",
    "df['age_class'] = df['age_class'].astype('category')"
   ]
  },
  {
   "cell_type": "code",
   "execution_count": 24,
   "metadata": {},
   "outputs": [
    {
     "name": "stdout",
     "output_type": "stream",
     "text": [
      "Checking whether there is an H2O instance running at http://localhost:54321 ..... not found.\n",
      "Attempting to start a local H2O server...\n",
      "  Java Version: openjdk version \"11.0.8\" 2020-07-14; OpenJDK Runtime Environment (build 11.0.8+10-post-Ubuntu-0ubuntu118.04.1); OpenJDK 64-Bit Server VM (build 11.0.8+10-post-Ubuntu-0ubuntu118.04.1, mixed mode, sharing)\n",
      "  Starting server from /opt/conda/lib/python3.7/site-packages/h2o/backend/bin/h2o.jar\n",
      "  Ice root: /tmp/tmpr4w3vxyz\n",
      "  JVM stdout: /tmp/tmpr4w3vxyz/h2o_unknownUser_started_from_python.out\n",
      "  JVM stderr: /tmp/tmpr4w3vxyz/h2o_unknownUser_started_from_python.err\n",
      "  Server is running at http://127.0.0.1:54321\n",
      "Connecting to H2O server at http://127.0.0.1:54321 ... successful.\n"
     ]
    },
    {
     "data": {
      "text/html": [
       "<div style=\"overflow:auto\"><table style=\"width:50%\"><tr><td>H2O_cluster_uptime:</td>\n",
       "<td>02 secs</td></tr>\n",
       "<tr><td>H2O_cluster_timezone:</td>\n",
       "<td>Etc/UTC</td></tr>\n",
       "<tr><td>H2O_data_parsing_timezone:</td>\n",
       "<td>UTC</td></tr>\n",
       "<tr><td>H2O_cluster_version:</td>\n",
       "<td>3.30.0.7</td></tr>\n",
       "<tr><td>H2O_cluster_version_age:</td>\n",
       "<td>17 days </td></tr>\n",
       "<tr><td>H2O_cluster_name:</td>\n",
       "<td>H2O_from_python_unknownUser_3nzzip</td></tr>\n",
       "<tr><td>H2O_cluster_total_nodes:</td>\n",
       "<td>1</td></tr>\n",
       "<tr><td>H2O_cluster_free_memory:</td>\n",
       "<td>4 Gb</td></tr>\n",
       "<tr><td>H2O_cluster_total_cores:</td>\n",
       "<td>4</td></tr>\n",
       "<tr><td>H2O_cluster_allowed_cores:</td>\n",
       "<td>4</td></tr>\n",
       "<tr><td>H2O_cluster_status:</td>\n",
       "<td>accepting new members, healthy</td></tr>\n",
       "<tr><td>H2O_connection_url:</td>\n",
       "<td>http://127.0.0.1:54321</td></tr>\n",
       "<tr><td>H2O_connection_proxy:</td>\n",
       "<td>{\"http\": null, \"https\": null}</td></tr>\n",
       "<tr><td>H2O_internal_security:</td>\n",
       "<td>False</td></tr>\n",
       "<tr><td>H2O_API_Extensions:</td>\n",
       "<td>Amazon S3, XGBoost, Algos, AutoML, Core V3, TargetEncoder, Core V4</td></tr>\n",
       "<tr><td>Python_version:</td>\n",
       "<td>3.7.6 final</td></tr></table></div>"
      ],
      "text/plain": [
       "--------------------------  ------------------------------------------------------------------\n",
       "H2O_cluster_uptime:         02 secs\n",
       "H2O_cluster_timezone:       Etc/UTC\n",
       "H2O_data_parsing_timezone:  UTC\n",
       "H2O_cluster_version:        3.30.0.7\n",
       "H2O_cluster_version_age:    17 days\n",
       "H2O_cluster_name:           H2O_from_python_unknownUser_3nzzip\n",
       "H2O_cluster_total_nodes:    1\n",
       "H2O_cluster_free_memory:    4 Gb\n",
       "H2O_cluster_total_cores:    4\n",
       "H2O_cluster_allowed_cores:  4\n",
       "H2O_cluster_status:         accepting new members, healthy\n",
       "H2O_connection_url:         http://127.0.0.1:54321\n",
       "H2O_connection_proxy:       {\"http\": null, \"https\": null}\n",
       "H2O_internal_security:      False\n",
       "H2O_API_Extensions:         Amazon S3, XGBoost, Algos, AutoML, Core V3, TargetEncoder, Core V4\n",
       "Python_version:             3.7.6 final\n",
       "--------------------------  ------------------------------------------------------------------"
      ]
     },
     "metadata": {},
     "output_type": "display_data"
    }
   ],
   "source": [
    "### Initialize h2o\n",
    "import h2o\n",
    "h2o.init()"
   ]
  },
  {
   "cell_type": "code",
   "execution_count": 25,
   "metadata": {},
   "outputs": [],
   "source": [
    "### Define predictor and response\n",
    "X = ['country_code', 'grass_date', 'subject_line_length',\n",
    "     'last_open_day', 'last_login_day', 'last_checkout_day',\n",
    "     'open_count_last_10_days', 'open_count_last_30_days',\n",
    "     'open_count_last_60_days', 'login_count_last_10_days',\n",
    "     'login_count_last_30_days', 'login_count_last_60_days',\n",
    "     'checkout_count_last_10_days', 'checkout_count_last_30_days',\n",
    "     'checkout_count_last_60_days', 'attr_1', 'attr_2',\n",
    "     'attr_3', 'age_class', 'open_count_last_10_days_log', 'domain',\n",
    "     'open_count_last_30_days_log', 'open_count_last_60_days_log']\n",
    "Y = 'open_flag'\n",
    "\n",
    "list_col = X + [Y]"
   ]
  },
  {
   "cell_type": "code",
   "execution_count": 26,
   "metadata": {},
   "outputs": [],
   "source": [
    "df_comb_train = df[:73539]\n",
    "df_comb_test = df[73539:]"
   ]
  },
  {
   "cell_type": "code",
   "execution_count": 27,
   "metadata": {},
   "outputs": [
    {
     "name": "stdout",
     "output_type": "stream",
     "text": [
      "Parse progress: |█████████████████████████████████████████████████████████| 100%\n",
      "Parse progress: |█████████████████████████████████████████████████████████| 100%\n"
     ]
    }
   ],
   "source": [
    "### Make H2O Frame\n",
    "h2o_train = h2o.H2OFrame(df_comb_train[list_col])\n",
    "h2o_test = h2o.H2OFrame(df_comb_test[X])"
   ]
  },
  {
   "cell_type": "code",
   "execution_count": 28,
   "metadata": {},
   "outputs": [],
   "source": [
    "h2o_train[['age_class', 'domain']] = h2o_train[['age_class', 'domain']].asfactor()\n",
    "h2o_test[['age_class', 'domain']] = h2o_test[['age_class', 'domain']].asfactor()\n",
    "    \n",
    "h2o_train[Y] = h2o_train[Y].asfactor()"
   ]
  },
  {
   "cell_type": "code",
   "execution_count": 29,
   "metadata": {},
   "outputs": [],
   "source": [
    "### Make all H2O baseline model\n",
    "from h2o.estimators.gbm import H2OGradientBoostingEstimator\n",
    "from h2o.estimators.random_forest import H2ORandomForestEstimator\n",
    "from h2o.estimators.glm import H2OGeneralizedLinearEstimator\n",
    "from h2o.estimators import H2OXGBoostEstimator\n",
    "from h2o.estimators.stackedensemble import H2OStackedEnsembleEstimator\n",
    "import time\n",
    "\n",
    "def h2o_compare_models(df_train, df_test, X, Y) :\n",
    "    \n",
    "    start = time.time()\n",
    "    \n",
    "    # Initialize all model (Ganti family/distributionnya)\n",
    "    glm = H2OGeneralizedLinearEstimator(family='binomial', nfolds=5, keep_cross_validation_predictions=True, fold_assignment='Modulo')\n",
    "    gbm = H2OGradientBoostingEstimator(distribution='bernoulli', nfolds=5, keep_cross_validation_predictions=True, fold_assignment='Modulo')\n",
    "    xgb = H2OXGBoostEstimator(distribution='bernoulli', nfolds=5, keep_cross_validation_predictions=True, fold_assignment='Modulo')\n",
    "    lgbm = H2OXGBoostEstimator(distribution='bernoulli', tree_method=\"hist\", grow_policy=\"lossguide\",\n",
    "                              nfolds=5, keep_cross_validation_predictions=True, fold_assignment='Modulo')\n",
    "    rf = H2ORandomForestEstimator(distribution='bernoulli', nfolds=5, keep_cross_validation_predictions=True, fold_assignment='Modulo')\n",
    "    ext = H2ORandomForestEstimator(distribution='bernoulli', histogram_type=\"Random\",\n",
    "                                  nfolds=5, keep_cross_validation_predictions=True, fold_assignment='Modulo')\n",
    "    \n",
    "    # Train model\n",
    "    glm.train(x=X, y=Y, training_frame=df_train)\n",
    "    gbm.train(x=X, y=Y, training_frame=df_train)\n",
    "    xgb.train(x=X, y=Y, training_frame=df_train)\n",
    "    lgbm.train(x=X, y=Y, training_frame=df_train)\n",
    "    rf.train(x=X, y=Y, training_frame=df_train)\n",
    "    ext.train(x=X, y=Y, training_frame=df_train)\n",
    "    \n",
    "    # Calculate train metrics (Bisa diganti)\n",
    "    from sklearn.metrics import matthews_corrcoef\n",
    "    train_glm = matthews_corrcoef(h2o_train[Y].as_data_frame(), glm.predict(h2o_train)['predict'].as_data_frame())\n",
    "    train_gbm = matthews_corrcoef(h2o_train[Y].as_data_frame(), gbm.predict(h2o_train)['predict'].as_data_frame())\n",
    "    train_xgb = matthews_corrcoef(h2o_train[Y].as_data_frame(), xgb.predict(h2o_train)['predict'].as_data_frame())\n",
    "    train_lgbm = matthews_corrcoef(h2o_train[Y].as_data_frame(), lgbm.predict(h2o_train)['predict'].as_data_frame())\n",
    "    train_rf = matthews_corrcoef(h2o_train[Y].as_data_frame(), rf.predict(h2o_train)['predict'].as_data_frame())\n",
    "    train_ext = matthews_corrcoef(h2o_train[Y].as_data_frame(), ext.predict(h2o_train)['predict'].as_data_frame())\n",
    "\n",
    "    # Calculate CV metrics for all model (Bisa diganti)\n",
    "    met_glm = matthews_corrcoef(h2o_train[Y].as_data_frame(), glm.cross_validation_holdout_predictions()['predict'].as_data_frame())\n",
    "    met_gbm = matthews_corrcoef(h2o_train[Y].as_data_frame(), gbm.cross_validation_holdout_predictions()['predict'].as_data_frame())\n",
    "    met_xgb = matthews_corrcoef(h2o_train[Y].as_data_frame(), xgb.cross_validation_holdout_predictions()['predict'].as_data_frame())\n",
    "    met_lgbm = matthews_corrcoef(h2o_train[Y].as_data_frame(), lgbm.cross_validation_holdout_predictions()['predict'].as_data_frame())\n",
    "    met_rf = matthews_corrcoef(h2o_train[Y].as_data_frame(), rf.cross_validation_holdout_predictions()['predict'].as_data_frame())\n",
    "    met_ext = matthews_corrcoef(h2o_train[Y].as_data_frame(), ext.cross_validation_holdout_predictions()['predict'].as_data_frame())\n",
    "    \n",
    "    # Make result dataframe\n",
    "    result = pd.DataFrame({'Model':['GLM','GBM','XGB','LGBM','RF','ExtraTree'],\n",
    "                          'Train Metrics':[train_glm,train_gbm,train_xgb,train_lgbm,train_rf,train_ext],\n",
    "                          'CV Metrics':[met_glm,met_gbm,met_xgb,met_lgbm,met_rf,met_ext]})\n",
    "    \n",
    "    end = time.time()\n",
    "    print('Time Used :',(end-start)/60)\n",
    "    \n",
    "    return result.sort_values('CV Metrics') "
   ]
  },
  {
   "cell_type": "code",
   "execution_count": 30,
   "metadata": {},
   "outputs": [
    {
     "name": "stdout",
     "output_type": "stream",
     "text": [
      "glm Model Build progress: |███████████████████████████████████████████████| 100%\n",
      "gbm Model Build progress: |███████████████████████████████████████████████| 100%\n",
      "xgboost Model Build progress: |███████████████████████████████████████████| 100%\n",
      "xgboost Model Build progress: |███████████████████████████████████████████| 100%\n",
      "drf Model Build progress: |███████████████████████████████████████████████| 100%\n",
      "drf Model Build progress: |███████████████████████████████████████████████| 100%\n",
      "glm prediction progress: |████████████████████████████████████████████████| 100%\n",
      "gbm prediction progress: |████████████████████████████████████████████████| 100%\n",
      "xgboost prediction progress: |████████████████████████████████████████████| 100%\n",
      "xgboost prediction progress: |████████████████████████████████████████████| 100%\n",
      "drf prediction progress: |████████████████████████████████████████████████| 100%\n",
      "drf prediction progress: |████████████████████████████████████████████████| 100%\n",
      "Time Used : 5.226236581802368\n"
     ]
    },
    {
     "data": {
      "text/html": [
       "<div>\n",
       "<style scoped>\n",
       "    .dataframe tbody tr th:only-of-type {\n",
       "        vertical-align: middle;\n",
       "    }\n",
       "\n",
       "    .dataframe tbody tr th {\n",
       "        vertical-align: top;\n",
       "    }\n",
       "\n",
       "    .dataframe thead th {\n",
       "        text-align: right;\n",
       "    }\n",
       "</style>\n",
       "<table border=\"1\" class=\"dataframe\">\n",
       "  <thead>\n",
       "    <tr style=\"text-align: right;\">\n",
       "      <th></th>\n",
       "      <th>Model</th>\n",
       "      <th>Train Metrics</th>\n",
       "      <th>CV Metrics</th>\n",
       "    </tr>\n",
       "  </thead>\n",
       "  <tbody>\n",
       "    <tr>\n",
       "      <th>0</th>\n",
       "      <td>GLM</td>\n",
       "      <td>0.497301</td>\n",
       "      <td>0.497749</td>\n",
       "    </tr>\n",
       "    <tr>\n",
       "      <th>5</th>\n",
       "      <td>ExtraTree</td>\n",
       "      <td>0.880664</td>\n",
       "      <td>0.520004</td>\n",
       "    </tr>\n",
       "    <tr>\n",
       "      <th>4</th>\n",
       "      <td>RF</td>\n",
       "      <td>0.929440</td>\n",
       "      <td>0.523262</td>\n",
       "    </tr>\n",
       "    <tr>\n",
       "      <th>1</th>\n",
       "      <td>GBM</td>\n",
       "      <td>0.548362</td>\n",
       "      <td>0.532170</td>\n",
       "    </tr>\n",
       "    <tr>\n",
       "      <th>2</th>\n",
       "      <td>XGB</td>\n",
       "      <td>0.613744</td>\n",
       "      <td>0.536380</td>\n",
       "    </tr>\n",
       "    <tr>\n",
       "      <th>3</th>\n",
       "      <td>LGBM</td>\n",
       "      <td>0.614784</td>\n",
       "      <td>0.538084</td>\n",
       "    </tr>\n",
       "  </tbody>\n",
       "</table>\n",
       "</div>"
      ],
      "text/plain": [
       "       Model  Train Metrics  CV Metrics\n",
       "0        GLM       0.497301    0.497749\n",
       "5  ExtraTree       0.880664    0.520004\n",
       "4         RF       0.929440    0.523262\n",
       "1        GBM       0.548362    0.532170\n",
       "2        XGB       0.613744    0.536380\n",
       "3       LGBM       0.614784    0.538084"
      ]
     },
     "execution_count": 30,
     "metadata": {},
     "output_type": "execute_result"
    }
   ],
   "source": [
    "### Compare models\n",
    "res = h2o_compare_models(h2o_train, h2o_test, X, Y) \n",
    "res"
   ]
  },
  {
   "cell_type": "code",
   "execution_count": 31,
   "metadata": {},
   "outputs": [
    {
     "name": "stdout",
     "output_type": "stream",
     "text": [
      "xgboost Model Build progress: |███████████████████████████████████████████| 100%\n"
     ]
    }
   ],
   "source": [
    "### Make model for submission\n",
    "lgbm = H2OXGBoostEstimator(distribution='bernoulli', tree_method=\"hist\", grow_policy=\"lossguide\",\n",
    "                              nfolds=5, keep_cross_validation_predictions=True, fold_assignment='Modulo',\n",
    "                              ntrees=1000, stopping_rounds = 5, stopping_tolerance = 1e-4, stopping_metric = \"logloss\",\n",
    "                              sample_rate=0.8, col_sample_rate=0.8, score_tree_interval=1)\n",
    "lgbm.train(x=X, y=Y, training_frame=h2o_train)  "
   ]
  },
  {
   "cell_type": "code",
   "execution_count": 32,
   "metadata": {},
   "outputs": [
    {
     "name": "stdout",
     "output_type": "stream",
     "text": [
      "xgboost prediction progress: |████████████████████████████████████████████| 100%\n",
      "Train Score : 0.5903789680962708\n",
      "CV Score : 0.5362847522717356\n"
     ]
    }
   ],
   "source": [
    "### Score\n",
    "from sklearn.metrics import matthews_corrcoef\n",
    "train_lgbm = matthews_corrcoef(h2o_train[Y].as_data_frame(), lgbm.predict(h2o_train)['predict'].as_data_frame())\n",
    "met_lgbm = matthews_corrcoef(h2o_train[Y].as_data_frame(), lgbm.cross_validation_holdout_predictions()['predict'].as_data_frame())\n",
    "\n",
    "print('Train Score :',train_lgbm)\n",
    "print('CV Score :',met_lgbm)"
   ]
  },
  {
   "cell_type": "code",
   "execution_count": 33,
   "metadata": {},
   "outputs": [
    {
     "name": "stdout",
     "output_type": "stream",
     "text": [
      "xgboost prediction progress: |████████████████████████████████████████████| 100%\n"
     ]
    }
   ],
   "source": [
    "### Make submission\n",
    "pred = lgbm.predict(h2o_test)['predict'].as_data_frame()\n",
    "sub = pd.read_csv('../input/student-shopee-code-league-marketing-analytics/sample_submission_0_1.csv')\n",
    "sub['open_flag'] = pred\n",
    "\n",
    "sub.to_csv('subs_lgbm.csv', index=False)"
   ]
  },
  {
   "cell_type": "code",
   "execution_count": 34,
   "metadata": {},
   "outputs": [
    {
     "data": {
      "text/html": [
       "<div>\n",
       "<style scoped>\n",
       "    .dataframe tbody tr th:only-of-type {\n",
       "        vertical-align: middle;\n",
       "    }\n",
       "\n",
       "    .dataframe tbody tr th {\n",
       "        vertical-align: top;\n",
       "    }\n",
       "\n",
       "    .dataframe thead th {\n",
       "        text-align: right;\n",
       "    }\n",
       "</style>\n",
       "<table border=\"1\" class=\"dataframe\">\n",
       "  <thead>\n",
       "    <tr style=\"text-align: right;\">\n",
       "      <th></th>\n",
       "      <th>row_id</th>\n",
       "      <th>open_flag</th>\n",
       "    </tr>\n",
       "  </thead>\n",
       "  <tbody>\n",
       "    <tr>\n",
       "      <th>0</th>\n",
       "      <td>0</td>\n",
       "      <td>1</td>\n",
       "    </tr>\n",
       "    <tr>\n",
       "      <th>1</th>\n",
       "      <td>1</td>\n",
       "      <td>0</td>\n",
       "    </tr>\n",
       "    <tr>\n",
       "      <th>2</th>\n",
       "      <td>2</td>\n",
       "      <td>0</td>\n",
       "    </tr>\n",
       "    <tr>\n",
       "      <th>3</th>\n",
       "      <td>3</td>\n",
       "      <td>0</td>\n",
       "    </tr>\n",
       "    <tr>\n",
       "      <th>4</th>\n",
       "      <td>4</td>\n",
       "      <td>0</td>\n",
       "    </tr>\n",
       "    <tr>\n",
       "      <th>...</th>\n",
       "      <td>...</td>\n",
       "      <td>...</td>\n",
       "    </tr>\n",
       "    <tr>\n",
       "      <th>55965</th>\n",
       "      <td>55965</td>\n",
       "      <td>0</td>\n",
       "    </tr>\n",
       "    <tr>\n",
       "      <th>55966</th>\n",
       "      <td>55966</td>\n",
       "      <td>0</td>\n",
       "    </tr>\n",
       "    <tr>\n",
       "      <th>55967</th>\n",
       "      <td>55967</td>\n",
       "      <td>0</td>\n",
       "    </tr>\n",
       "    <tr>\n",
       "      <th>55968</th>\n",
       "      <td>55968</td>\n",
       "      <td>0</td>\n",
       "    </tr>\n",
       "    <tr>\n",
       "      <th>55969</th>\n",
       "      <td>55969</td>\n",
       "      <td>1</td>\n",
       "    </tr>\n",
       "  </tbody>\n",
       "</table>\n",
       "<p>55970 rows × 2 columns</p>\n",
       "</div>"
      ],
      "text/plain": [
       "       row_id  open_flag\n",
       "0           0          1\n",
       "1           1          0\n",
       "2           2          0\n",
       "3           3          0\n",
       "4           4          0\n",
       "...       ...        ...\n",
       "55965   55965          0\n",
       "55966   55966          0\n",
       "55967   55967          0\n",
       "55968   55968          0\n",
       "55969   55969          1\n",
       "\n",
       "[55970 rows x 2 columns]"
      ]
     },
     "execution_count": 34,
     "metadata": {},
     "output_type": "execute_result"
    }
   ],
   "source": [
    "sub"
   ]
  },
  {
   "cell_type": "code",
   "execution_count": 35,
   "metadata": {},
   "outputs": [],
   "source": [
    "# xgb = xgb = H2OXGBoostEstimator(distribution='bernoulli', \n",
    "#                                 nfolds=5, \n",
    "#                                 keep_cross_validation_predictions=True, \n",
    "#                                 fold_assignment='Modulo')\n",
    "# xgb.train(x=X, y=Y, training_frame=h2o_train)"
   ]
  },
  {
   "cell_type": "code",
   "execution_count": 36,
   "metadata": {},
   "outputs": [],
   "source": [
    "# ### Score\n",
    "# from sklearn.metrics import matthews_corrcoef\n",
    "# train_xgb = matthews_corrcoef(h2o_train[Y].as_data_frame(), xgb.predict(h2o_train)['predict'].as_data_frame())\n",
    "# met_xgb = matthews_corrcoef(h2o_train[Y].as_data_frame(), xgb.cross_validation_holdout_predictions()['predict'].as_data_frame())\n",
    "\n",
    "# print('Train Score :',train_xgb)\n",
    "# print('CV Score :',met_xgb)"
   ]
  },
  {
   "cell_type": "code",
   "execution_count": 37,
   "metadata": {},
   "outputs": [],
   "source": [
    "# ### Make submission\n",
    "# pred = xgb.predict(h2o_test)['predict'].as_data_frame()\n",
    "# sub = pd.read_csv('../input/student-shopee-code-league-marketing-analytics/sample_submission_0_1.csv')\n",
    "# sub['open_flag'] = pred\n",
    "\n",
    "# # sub.to_csv('subs_lgbm_2.csv', index=False)"
   ]
  },
  {
   "cell_type": "code",
   "execution_count": null,
   "metadata": {},
   "outputs": [],
   "source": []
  }
 ],
 "metadata": {
  "kernelspec": {
   "display_name": "Python 3",
   "language": "python",
   "name": "python3"
  },
  "language_info": {
   "codemirror_mode": {
    "name": "ipython",
    "version": 3
   },
   "file_extension": ".py",
   "mimetype": "text/x-python",
   "name": "python",
   "nbconvert_exporter": "python",
   "pygments_lexer": "ipython3",
   "version": "3.7.6"
  }
 },
 "nbformat": 4,
 "nbformat_minor": 4
}
